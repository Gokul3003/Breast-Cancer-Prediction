{
  "nbformat": 4,
  "nbformat_minor": 0,
  "metadata": {
    "_change_revision": 416,
    "_is_fork": false,
    "kernelspec": {
      "display_name": "Python 3",
      "language": "python",
      "name": "python3"
    },
    "language_info": {
      "codemirror_mode": {
        "name": "ipython",
        "version": 3
      },
      "file_extension": ".py",
      "mimetype": "text/x-python",
      "name": "python",
      "nbconvert_exporter": "python",
      "pygments_lexer": "ipython3",
      "version": "3.5.2"
    },
    "colab": {
      "provenance": []
    }
  },
  "cells": [
    {
      "cell_type": "markdown",
      "source": [
        "#**OBJECTIVE**\n",
        "      \n",
        "  \n",
        "      \n",
        "      \n",
        "      -> The Main aim of the project is breast cancer analysis.\n",
        "\n",
        "      -> In last two decades breast cancer tremendously increasing.\n",
        "\n",
        "      -> Most of the people doesn’t care about causes and affect of breast cancer. So I would like to do this project.\n"
      ],
      "metadata": {
        "id": "p6DnQncj0ggi"
      }
    },
    {
      "cell_type": "markdown",
      "source": [
        "# **DATA COLLECTION**\n",
        "\n",
        "      -> In this project I have use Wisconsin Breast Cancer Dataset. I have download this dataset in Kaggle.\n",
        "\n",
        "      -> This dataset contain around 600 data's with 33 column.\n",
        "\n",
        "      "
      ],
      "metadata": {
        "id": "mQlNOm-o2nI-"
      }
    },
    {
      "cell_type": "markdown",
      "metadata": {
        "_cell_guid": "5e26372e-f1bd-b50f-0c1c-33a44306d1f7",
        "id": "3YSHcJ8pOEaQ"
      },
      "source": [
        "\n",
        "\n",
        "#**Load Libraries**"
      ]
    },
    {
      "cell_type": "code",
      "metadata": {
        "colab": {
          "base_uri": "https://localhost:8080/"
        },
        "id": "x1_SfznUOs7u",
        "outputId": "43831384-e428-4b73-9348-2f86d5a43546"
      },
      "source": [
        "!pip install mpld3\n",
        "!pip install -U scikit-learn\n"
      ],
      "execution_count": null,
      "outputs": [
        {
          "output_type": "stream",
          "name": "stdout",
          "text": [
            "Requirement already satisfied: mpld3 in /usr/local/lib/python3.7/dist-packages (0.5.7)\n",
            "Requirement already satisfied: matplotlib in /usr/local/lib/python3.7/dist-packages (from mpld3) (3.2.2)\n",
            "Requirement already satisfied: jinja2 in /usr/local/lib/python3.7/dist-packages (from mpld3) (2.11.3)\n",
            "Requirement already satisfied: MarkupSafe>=0.23 in /usr/local/lib/python3.7/dist-packages (from jinja2->mpld3) (2.0.1)\n",
            "Requirement already satisfied: kiwisolver>=1.0.1 in /usr/local/lib/python3.7/dist-packages (from matplotlib->mpld3) (1.3.2)\n",
            "Requirement already satisfied: python-dateutil>=2.1 in /usr/local/lib/python3.7/dist-packages (from matplotlib->mpld3) (2.8.2)\n",
            "Requirement already satisfied: pyparsing!=2.0.4,!=2.1.2,!=2.1.6,>=2.0.1 in /usr/local/lib/python3.7/dist-packages (from matplotlib->mpld3) (3.0.6)\n",
            "Requirement already satisfied: numpy>=1.11 in /usr/local/lib/python3.7/dist-packages (from matplotlib->mpld3) (1.19.5)\n",
            "Requirement already satisfied: cycler>=0.10 in /usr/local/lib/python3.7/dist-packages (from matplotlib->mpld3) (0.11.0)\n",
            "Requirement already satisfied: six>=1.5 in /usr/local/lib/python3.7/dist-packages (from python-dateutil>=2.1->matplotlib->mpld3) (1.15.0)\n",
            "Requirement already satisfied: scikit-learn in /usr/local/lib/python3.7/dist-packages (1.0.1)\n",
            "Requirement already satisfied: numpy>=1.14.6 in /usr/local/lib/python3.7/dist-packages (from scikit-learn) (1.19.5)\n",
            "Requirement already satisfied: joblib>=0.11 in /usr/local/lib/python3.7/dist-packages (from scikit-learn) (1.1.0)\n",
            "Requirement already satisfied: threadpoolctl>=2.0.0 in /usr/local/lib/python3.7/dist-packages (from scikit-learn) (3.0.0)\n",
            "Requirement already satisfied: scipy>=1.1.0 in /usr/local/lib/python3.7/dist-packages (from scikit-learn) (1.4.1)\n"
          ]
        }
      ]
    },
    {
      "cell_type": "code",
      "metadata": {
        "_cell_guid": "2768ce80-1a7d-ca31-a35f-29cf0ef7fb15",
        "id": "Swa3OVXQOEaR"
      },
      "source": [
        "import numpy as np # linear algebra\n",
        "import pandas as pd # data processing, CSV file I/O (e.g. pd.read_csv)\n",
        "\n",
        "# keeps the plots in one place. calls image as static pngs\n",
        "%matplotlib inline\n",
        "import matplotlib.pyplot as plt # side-stepping mpl backend\n",
        "import matplotlib.gridspec as gridspec # subplots\n",
        "import mpld3 as mpl\n",
        "\n",
        "#Import models from scikit learn module:\n",
        "from sklearn.model_selection import train_test_split\n",
        "from sklearn.linear_model import LogisticRegression\n",
        "from sklearn.model_selection import KFold\n",
        "from sklearn.model_selection import cross_val_score #For K-fold cross validation\n",
        "from sklearn.ensemble import RandomForestClassifier\n",
        "from sklearn.tree import DecisionTreeClassifier, export_graphviz\n",
        "from sklearn import metrics"
      ],
      "execution_count": null,
      "outputs": []
    },
    {
      "cell_type": "markdown",
      "source": [
        "# **Dataset Infromation**\n",
        "\n",
        "->    Wisconsin Breast Cancer Dataset is collected in Kaggle repository.\n",
        "\n",
        "\n",
        "\n",
        "->    This dataset contains around 600 data with 33 information.\n"
      ],
      "metadata": {
        "id": "73_BsyeK7O7W"
      }
    },
    {
      "cell_type": "markdown",
      "metadata": {
        "_cell_guid": "09b9d090-2cba-ad5a-58ce-84208f95dba4",
        "id": "lhP3yZplOEaU"
      },
      "source": [
        "\n",
        "\n",
        "\n",
        "# **Load the data**"
      ]
    },
    {
      "cell_type": "code",
      "metadata": {
        "_cell_guid": "9180cb22-53d2-6bf2-3a29-99448ab808fb",
        "colab": {
          "base_uri": "https://localhost:8080/",
          "height": 244
        },
        "id": "cES8M9TfOEaV",
        "outputId": "4319b91f-829e-4ca8-90af-ada6b7361983"
      },
      "source": [
        "df = pd.read_csv(\"/content/data (1).csv\",header = 0)\n",
        "df.head()"
      ],
      "execution_count": null,
      "outputs": [
        {
          "output_type": "execute_result",
          "data": {
            "text/html": [
              "<div>\n",
              "<style scoped>\n",
              "    .dataframe tbody tr th:only-of-type {\n",
              "        vertical-align: middle;\n",
              "    }\n",
              "\n",
              "    .dataframe tbody tr th {\n",
              "        vertical-align: top;\n",
              "    }\n",
              "\n",
              "    .dataframe thead th {\n",
              "        text-align: right;\n",
              "    }\n",
              "</style>\n",
              "<table border=\"1\" class=\"dataframe\">\n",
              "  <thead>\n",
              "    <tr style=\"text-align: right;\">\n",
              "      <th></th>\n",
              "      <th>id</th>\n",
              "      <th>diagnosis</th>\n",
              "      <th>radius_mean</th>\n",
              "      <th>texture_mean</th>\n",
              "      <th>perimeter_mean</th>\n",
              "      <th>area_mean</th>\n",
              "      <th>smoothness_mean</th>\n",
              "      <th>compactness_mean</th>\n",
              "      <th>concavity_mean</th>\n",
              "      <th>concave points_mean</th>\n",
              "      <th>symmetry_mean</th>\n",
              "      <th>fractal_dimension_mean</th>\n",
              "      <th>radius_se</th>\n",
              "      <th>texture_se</th>\n",
              "      <th>perimeter_se</th>\n",
              "      <th>area_se</th>\n",
              "      <th>smoothness_se</th>\n",
              "      <th>compactness_se</th>\n",
              "      <th>concavity_se</th>\n",
              "      <th>concave points_se</th>\n",
              "      <th>symmetry_se</th>\n",
              "      <th>fractal_dimension_se</th>\n",
              "      <th>radius_worst</th>\n",
              "      <th>texture_worst</th>\n",
              "      <th>perimeter_worst</th>\n",
              "      <th>area_worst</th>\n",
              "      <th>smoothness_worst</th>\n",
              "      <th>compactness_worst</th>\n",
              "      <th>concavity_worst</th>\n",
              "      <th>concave points_worst</th>\n",
              "      <th>symmetry_worst</th>\n",
              "      <th>fractal_dimension_worst</th>\n",
              "      <th>Unnamed: 32</th>\n",
              "    </tr>\n",
              "  </thead>\n",
              "  <tbody>\n",
              "    <tr>\n",
              "      <th>0</th>\n",
              "      <td>842302</td>\n",
              "      <td>M</td>\n",
              "      <td>17.99</td>\n",
              "      <td>10.38</td>\n",
              "      <td>122.80</td>\n",
              "      <td>1001.0</td>\n",
              "      <td>0.11840</td>\n",
              "      <td>0.27760</td>\n",
              "      <td>0.3001</td>\n",
              "      <td>0.14710</td>\n",
              "      <td>0.2419</td>\n",
              "      <td>0.07871</td>\n",
              "      <td>1.0950</td>\n",
              "      <td>0.9053</td>\n",
              "      <td>8.589</td>\n",
              "      <td>153.40</td>\n",
              "      <td>0.006399</td>\n",
              "      <td>0.04904</td>\n",
              "      <td>0.05373</td>\n",
              "      <td>0.01587</td>\n",
              "      <td>0.03003</td>\n",
              "      <td>0.006193</td>\n",
              "      <td>25.38</td>\n",
              "      <td>17.33</td>\n",
              "      <td>184.60</td>\n",
              "      <td>2019.0</td>\n",
              "      <td>0.1622</td>\n",
              "      <td>0.6656</td>\n",
              "      <td>0.7119</td>\n",
              "      <td>0.2654</td>\n",
              "      <td>0.4601</td>\n",
              "      <td>0.11890</td>\n",
              "      <td>NaN</td>\n",
              "    </tr>\n",
              "    <tr>\n",
              "      <th>1</th>\n",
              "      <td>842517</td>\n",
              "      <td>M</td>\n",
              "      <td>20.57</td>\n",
              "      <td>17.77</td>\n",
              "      <td>132.90</td>\n",
              "      <td>1326.0</td>\n",
              "      <td>0.08474</td>\n",
              "      <td>0.07864</td>\n",
              "      <td>0.0869</td>\n",
              "      <td>0.07017</td>\n",
              "      <td>0.1812</td>\n",
              "      <td>0.05667</td>\n",
              "      <td>0.5435</td>\n",
              "      <td>0.7339</td>\n",
              "      <td>3.398</td>\n",
              "      <td>74.08</td>\n",
              "      <td>0.005225</td>\n",
              "      <td>0.01308</td>\n",
              "      <td>0.01860</td>\n",
              "      <td>0.01340</td>\n",
              "      <td>0.01389</td>\n",
              "      <td>0.003532</td>\n",
              "      <td>24.99</td>\n",
              "      <td>23.41</td>\n",
              "      <td>158.80</td>\n",
              "      <td>1956.0</td>\n",
              "      <td>0.1238</td>\n",
              "      <td>0.1866</td>\n",
              "      <td>0.2416</td>\n",
              "      <td>0.1860</td>\n",
              "      <td>0.2750</td>\n",
              "      <td>0.08902</td>\n",
              "      <td>NaN</td>\n",
              "    </tr>\n",
              "    <tr>\n",
              "      <th>2</th>\n",
              "      <td>84300903</td>\n",
              "      <td>M</td>\n",
              "      <td>19.69</td>\n",
              "      <td>21.25</td>\n",
              "      <td>130.00</td>\n",
              "      <td>1203.0</td>\n",
              "      <td>0.10960</td>\n",
              "      <td>0.15990</td>\n",
              "      <td>0.1974</td>\n",
              "      <td>0.12790</td>\n",
              "      <td>0.2069</td>\n",
              "      <td>0.05999</td>\n",
              "      <td>0.7456</td>\n",
              "      <td>0.7869</td>\n",
              "      <td>4.585</td>\n",
              "      <td>94.03</td>\n",
              "      <td>0.006150</td>\n",
              "      <td>0.04006</td>\n",
              "      <td>0.03832</td>\n",
              "      <td>0.02058</td>\n",
              "      <td>0.02250</td>\n",
              "      <td>0.004571</td>\n",
              "      <td>23.57</td>\n",
              "      <td>25.53</td>\n",
              "      <td>152.50</td>\n",
              "      <td>1709.0</td>\n",
              "      <td>0.1444</td>\n",
              "      <td>0.4245</td>\n",
              "      <td>0.4504</td>\n",
              "      <td>0.2430</td>\n",
              "      <td>0.3613</td>\n",
              "      <td>0.08758</td>\n",
              "      <td>NaN</td>\n",
              "    </tr>\n",
              "    <tr>\n",
              "      <th>3</th>\n",
              "      <td>84348301</td>\n",
              "      <td>M</td>\n",
              "      <td>11.42</td>\n",
              "      <td>20.38</td>\n",
              "      <td>77.58</td>\n",
              "      <td>386.1</td>\n",
              "      <td>0.14250</td>\n",
              "      <td>0.28390</td>\n",
              "      <td>0.2414</td>\n",
              "      <td>0.10520</td>\n",
              "      <td>0.2597</td>\n",
              "      <td>0.09744</td>\n",
              "      <td>0.4956</td>\n",
              "      <td>1.1560</td>\n",
              "      <td>3.445</td>\n",
              "      <td>27.23</td>\n",
              "      <td>0.009110</td>\n",
              "      <td>0.07458</td>\n",
              "      <td>0.05661</td>\n",
              "      <td>0.01867</td>\n",
              "      <td>0.05963</td>\n",
              "      <td>0.009208</td>\n",
              "      <td>14.91</td>\n",
              "      <td>26.50</td>\n",
              "      <td>98.87</td>\n",
              "      <td>567.7</td>\n",
              "      <td>0.2098</td>\n",
              "      <td>0.8663</td>\n",
              "      <td>0.6869</td>\n",
              "      <td>0.2575</td>\n",
              "      <td>0.6638</td>\n",
              "      <td>0.17300</td>\n",
              "      <td>NaN</td>\n",
              "    </tr>\n",
              "    <tr>\n",
              "      <th>4</th>\n",
              "      <td>84358402</td>\n",
              "      <td>M</td>\n",
              "      <td>20.29</td>\n",
              "      <td>14.34</td>\n",
              "      <td>135.10</td>\n",
              "      <td>1297.0</td>\n",
              "      <td>0.10030</td>\n",
              "      <td>0.13280</td>\n",
              "      <td>0.1980</td>\n",
              "      <td>0.10430</td>\n",
              "      <td>0.1809</td>\n",
              "      <td>0.05883</td>\n",
              "      <td>0.7572</td>\n",
              "      <td>0.7813</td>\n",
              "      <td>5.438</td>\n",
              "      <td>94.44</td>\n",
              "      <td>0.011490</td>\n",
              "      <td>0.02461</td>\n",
              "      <td>0.05688</td>\n",
              "      <td>0.01885</td>\n",
              "      <td>0.01756</td>\n",
              "      <td>0.005115</td>\n",
              "      <td>22.54</td>\n",
              "      <td>16.67</td>\n",
              "      <td>152.20</td>\n",
              "      <td>1575.0</td>\n",
              "      <td>0.1374</td>\n",
              "      <td>0.2050</td>\n",
              "      <td>0.4000</td>\n",
              "      <td>0.1625</td>\n",
              "      <td>0.2364</td>\n",
              "      <td>0.07678</td>\n",
              "      <td>NaN</td>\n",
              "    </tr>\n",
              "  </tbody>\n",
              "</table>\n",
              "</div>"
            ],
            "text/plain": [
              "         id diagnosis  ...  fractal_dimension_worst  Unnamed: 32\n",
              "0    842302         M  ...                  0.11890          NaN\n",
              "1    842517         M  ...                  0.08902          NaN\n",
              "2  84300903         M  ...                  0.08758          NaN\n",
              "3  84348301         M  ...                  0.17300          NaN\n",
              "4  84358402         M  ...                  0.07678          NaN\n",
              "\n",
              "[5 rows x 33 columns]"
            ]
          },
          "metadata": {},
          "execution_count": 4
        }
      ]
    },
    {
      "cell_type": "markdown",
      "metadata": {
        "_cell_guid": "e382010d-1d71-b8d6-4a6e-a0abc9e42372",
        "id": "0x8bB-jxOEaV"
      },
      "source": [
        "# **Data Clean and prepare**\n",
        "\n",
        "\n",
        "\n"
      ]
    },
    {
      "cell_type": "code",
      "metadata": {
        "_cell_guid": "f9fd3701-af9d-8d8c-5d0e-e2673d7977fe",
        "colab": {
          "base_uri": "https://localhost:8080/"
        },
        "id": "HN0K0t-eOEaW",
        "outputId": "248e39d5-8f98-4139-ea58-8f90beae8250"
      },
      "source": [
        "df.drop('id',axis=1,inplace=True)\n",
        "df.drop('Unnamed: 32',axis=1,inplace=True)\n",
        "# size of the dataframe\n",
        "len(df)"
      ],
      "execution_count": null,
      "outputs": [
        {
          "output_type": "execute_result",
          "data": {
            "text/plain": [
              "569"
            ]
          },
          "metadata": {},
          "execution_count": 5
        }
      ]
    },
    {
      "cell_type": "code",
      "metadata": {
        "_cell_guid": "083fe464-8dac-713e-d0a1-46435c0d93fa",
        "colab": {
          "base_uri": "https://localhost:8080/"
        },
        "id": "1Ye62zjDOEaY",
        "outputId": "d01f4a0a-1aa9-459f-b995-fd1b433c954a"
      },
      "source": [
        "df.diagnosis.unique()"
      ],
      "execution_count": null,
      "outputs": [
        {
          "output_type": "execute_result",
          "data": {
            "text/plain": [
              "array(['M', 'B'], dtype=object)"
            ]
          },
          "metadata": {},
          "execution_count": 6
        }
      ]
    },
    {
      "cell_type": "code",
      "metadata": {
        "_cell_guid": "0882e4c2-3d4d-d4d9-5f49-f36c1b248b93",
        "colab": {
          "base_uri": "https://localhost:8080/",
          "height": 244
        },
        "id": "IrW3nskZOEaZ",
        "outputId": "0f48c416-1144-4512-b96c-7c4424fbbdac"
      },
      "source": [
        "df['diagnosis'] = df['diagnosis'].map({'M':1,'B':0})\n",
        "df.head()"
      ],
      "execution_count": null,
      "outputs": [
        {
          "output_type": "execute_result",
          "data": {
            "text/html": [
              "<div>\n",
              "<style scoped>\n",
              "    .dataframe tbody tr th:only-of-type {\n",
              "        vertical-align: middle;\n",
              "    }\n",
              "\n",
              "    .dataframe tbody tr th {\n",
              "        vertical-align: top;\n",
              "    }\n",
              "\n",
              "    .dataframe thead th {\n",
              "        text-align: right;\n",
              "    }\n",
              "</style>\n",
              "<table border=\"1\" class=\"dataframe\">\n",
              "  <thead>\n",
              "    <tr style=\"text-align: right;\">\n",
              "      <th></th>\n",
              "      <th>diagnosis</th>\n",
              "      <th>radius_mean</th>\n",
              "      <th>texture_mean</th>\n",
              "      <th>perimeter_mean</th>\n",
              "      <th>area_mean</th>\n",
              "      <th>smoothness_mean</th>\n",
              "      <th>compactness_mean</th>\n",
              "      <th>concavity_mean</th>\n",
              "      <th>concave points_mean</th>\n",
              "      <th>symmetry_mean</th>\n",
              "      <th>fractal_dimension_mean</th>\n",
              "      <th>radius_se</th>\n",
              "      <th>texture_se</th>\n",
              "      <th>perimeter_se</th>\n",
              "      <th>area_se</th>\n",
              "      <th>smoothness_se</th>\n",
              "      <th>compactness_se</th>\n",
              "      <th>concavity_se</th>\n",
              "      <th>concave points_se</th>\n",
              "      <th>symmetry_se</th>\n",
              "      <th>fractal_dimension_se</th>\n",
              "      <th>radius_worst</th>\n",
              "      <th>texture_worst</th>\n",
              "      <th>perimeter_worst</th>\n",
              "      <th>area_worst</th>\n",
              "      <th>smoothness_worst</th>\n",
              "      <th>compactness_worst</th>\n",
              "      <th>concavity_worst</th>\n",
              "      <th>concave points_worst</th>\n",
              "      <th>symmetry_worst</th>\n",
              "      <th>fractal_dimension_worst</th>\n",
              "    </tr>\n",
              "  </thead>\n",
              "  <tbody>\n",
              "    <tr>\n",
              "      <th>0</th>\n",
              "      <td>1</td>\n",
              "      <td>17.99</td>\n",
              "      <td>10.38</td>\n",
              "      <td>122.80</td>\n",
              "      <td>1001.0</td>\n",
              "      <td>0.11840</td>\n",
              "      <td>0.27760</td>\n",
              "      <td>0.3001</td>\n",
              "      <td>0.14710</td>\n",
              "      <td>0.2419</td>\n",
              "      <td>0.07871</td>\n",
              "      <td>1.0950</td>\n",
              "      <td>0.9053</td>\n",
              "      <td>8.589</td>\n",
              "      <td>153.40</td>\n",
              "      <td>0.006399</td>\n",
              "      <td>0.04904</td>\n",
              "      <td>0.05373</td>\n",
              "      <td>0.01587</td>\n",
              "      <td>0.03003</td>\n",
              "      <td>0.006193</td>\n",
              "      <td>25.38</td>\n",
              "      <td>17.33</td>\n",
              "      <td>184.60</td>\n",
              "      <td>2019.0</td>\n",
              "      <td>0.1622</td>\n",
              "      <td>0.6656</td>\n",
              "      <td>0.7119</td>\n",
              "      <td>0.2654</td>\n",
              "      <td>0.4601</td>\n",
              "      <td>0.11890</td>\n",
              "    </tr>\n",
              "    <tr>\n",
              "      <th>1</th>\n",
              "      <td>1</td>\n",
              "      <td>20.57</td>\n",
              "      <td>17.77</td>\n",
              "      <td>132.90</td>\n",
              "      <td>1326.0</td>\n",
              "      <td>0.08474</td>\n",
              "      <td>0.07864</td>\n",
              "      <td>0.0869</td>\n",
              "      <td>0.07017</td>\n",
              "      <td>0.1812</td>\n",
              "      <td>0.05667</td>\n",
              "      <td>0.5435</td>\n",
              "      <td>0.7339</td>\n",
              "      <td>3.398</td>\n",
              "      <td>74.08</td>\n",
              "      <td>0.005225</td>\n",
              "      <td>0.01308</td>\n",
              "      <td>0.01860</td>\n",
              "      <td>0.01340</td>\n",
              "      <td>0.01389</td>\n",
              "      <td>0.003532</td>\n",
              "      <td>24.99</td>\n",
              "      <td>23.41</td>\n",
              "      <td>158.80</td>\n",
              "      <td>1956.0</td>\n",
              "      <td>0.1238</td>\n",
              "      <td>0.1866</td>\n",
              "      <td>0.2416</td>\n",
              "      <td>0.1860</td>\n",
              "      <td>0.2750</td>\n",
              "      <td>0.08902</td>\n",
              "    </tr>\n",
              "    <tr>\n",
              "      <th>2</th>\n",
              "      <td>1</td>\n",
              "      <td>19.69</td>\n",
              "      <td>21.25</td>\n",
              "      <td>130.00</td>\n",
              "      <td>1203.0</td>\n",
              "      <td>0.10960</td>\n",
              "      <td>0.15990</td>\n",
              "      <td>0.1974</td>\n",
              "      <td>0.12790</td>\n",
              "      <td>0.2069</td>\n",
              "      <td>0.05999</td>\n",
              "      <td>0.7456</td>\n",
              "      <td>0.7869</td>\n",
              "      <td>4.585</td>\n",
              "      <td>94.03</td>\n",
              "      <td>0.006150</td>\n",
              "      <td>0.04006</td>\n",
              "      <td>0.03832</td>\n",
              "      <td>0.02058</td>\n",
              "      <td>0.02250</td>\n",
              "      <td>0.004571</td>\n",
              "      <td>23.57</td>\n",
              "      <td>25.53</td>\n",
              "      <td>152.50</td>\n",
              "      <td>1709.0</td>\n",
              "      <td>0.1444</td>\n",
              "      <td>0.4245</td>\n",
              "      <td>0.4504</td>\n",
              "      <td>0.2430</td>\n",
              "      <td>0.3613</td>\n",
              "      <td>0.08758</td>\n",
              "    </tr>\n",
              "    <tr>\n",
              "      <th>3</th>\n",
              "      <td>1</td>\n",
              "      <td>11.42</td>\n",
              "      <td>20.38</td>\n",
              "      <td>77.58</td>\n",
              "      <td>386.1</td>\n",
              "      <td>0.14250</td>\n",
              "      <td>0.28390</td>\n",
              "      <td>0.2414</td>\n",
              "      <td>0.10520</td>\n",
              "      <td>0.2597</td>\n",
              "      <td>0.09744</td>\n",
              "      <td>0.4956</td>\n",
              "      <td>1.1560</td>\n",
              "      <td>3.445</td>\n",
              "      <td>27.23</td>\n",
              "      <td>0.009110</td>\n",
              "      <td>0.07458</td>\n",
              "      <td>0.05661</td>\n",
              "      <td>0.01867</td>\n",
              "      <td>0.05963</td>\n",
              "      <td>0.009208</td>\n",
              "      <td>14.91</td>\n",
              "      <td>26.50</td>\n",
              "      <td>98.87</td>\n",
              "      <td>567.7</td>\n",
              "      <td>0.2098</td>\n",
              "      <td>0.8663</td>\n",
              "      <td>0.6869</td>\n",
              "      <td>0.2575</td>\n",
              "      <td>0.6638</td>\n",
              "      <td>0.17300</td>\n",
              "    </tr>\n",
              "    <tr>\n",
              "      <th>4</th>\n",
              "      <td>1</td>\n",
              "      <td>20.29</td>\n",
              "      <td>14.34</td>\n",
              "      <td>135.10</td>\n",
              "      <td>1297.0</td>\n",
              "      <td>0.10030</td>\n",
              "      <td>0.13280</td>\n",
              "      <td>0.1980</td>\n",
              "      <td>0.10430</td>\n",
              "      <td>0.1809</td>\n",
              "      <td>0.05883</td>\n",
              "      <td>0.7572</td>\n",
              "      <td>0.7813</td>\n",
              "      <td>5.438</td>\n",
              "      <td>94.44</td>\n",
              "      <td>0.011490</td>\n",
              "      <td>0.02461</td>\n",
              "      <td>0.05688</td>\n",
              "      <td>0.01885</td>\n",
              "      <td>0.01756</td>\n",
              "      <td>0.005115</td>\n",
              "      <td>22.54</td>\n",
              "      <td>16.67</td>\n",
              "      <td>152.20</td>\n",
              "      <td>1575.0</td>\n",
              "      <td>0.1374</td>\n",
              "      <td>0.2050</td>\n",
              "      <td>0.4000</td>\n",
              "      <td>0.1625</td>\n",
              "      <td>0.2364</td>\n",
              "      <td>0.07678</td>\n",
              "    </tr>\n",
              "  </tbody>\n",
              "</table>\n",
              "</div>"
            ],
            "text/plain": [
              "   diagnosis  radius_mean  ...  symmetry_worst  fractal_dimension_worst\n",
              "0          1        17.99  ...          0.4601                  0.11890\n",
              "1          1        20.57  ...          0.2750                  0.08902\n",
              "2          1        19.69  ...          0.3613                  0.08758\n",
              "3          1        11.42  ...          0.6638                  0.17300\n",
              "4          1        20.29  ...          0.2364                  0.07678\n",
              "\n",
              "[5 rows x 31 columns]"
            ]
          },
          "metadata": {},
          "execution_count": 7
        }
      ]
    },
    {
      "cell_type": "markdown",
      "metadata": {
        "_cell_guid": "9308c3e3-af06-6f2d-b4cf-f2dc9a47a881",
        "id": "j_RF8epfOEaa"
      },
      "source": [
        "# Explore data"
      ]
    },
    {
      "cell_type": "code",
      "metadata": {
        "_cell_guid": "cfd882cd-1719-4093-934a-539faf665353",
        "colab": {
          "base_uri": "https://localhost:8080/",
          "height": 338
        },
        "id": "C-mzGF5AOEab",
        "outputId": "2b0d4c40-23eb-45f2-e95c-9b1bbe146a75"
      },
      "source": [
        "df.describe()"
      ],
      "execution_count": null,
      "outputs": [
        {
          "output_type": "execute_result",
          "data": {
            "text/html": [
              "<div>\n",
              "<style scoped>\n",
              "    .dataframe tbody tr th:only-of-type {\n",
              "        vertical-align: middle;\n",
              "    }\n",
              "\n",
              "    .dataframe tbody tr th {\n",
              "        vertical-align: top;\n",
              "    }\n",
              "\n",
              "    .dataframe thead th {\n",
              "        text-align: right;\n",
              "    }\n",
              "</style>\n",
              "<table border=\"1\" class=\"dataframe\">\n",
              "  <thead>\n",
              "    <tr style=\"text-align: right;\">\n",
              "      <th></th>\n",
              "      <th>diagnosis</th>\n",
              "      <th>radius_mean</th>\n",
              "      <th>texture_mean</th>\n",
              "      <th>perimeter_mean</th>\n",
              "      <th>area_mean</th>\n",
              "      <th>smoothness_mean</th>\n",
              "      <th>compactness_mean</th>\n",
              "      <th>concavity_mean</th>\n",
              "      <th>concave points_mean</th>\n",
              "      <th>symmetry_mean</th>\n",
              "      <th>fractal_dimension_mean</th>\n",
              "      <th>radius_se</th>\n",
              "      <th>texture_se</th>\n",
              "      <th>perimeter_se</th>\n",
              "      <th>area_se</th>\n",
              "      <th>smoothness_se</th>\n",
              "      <th>compactness_se</th>\n",
              "      <th>concavity_se</th>\n",
              "      <th>concave points_se</th>\n",
              "      <th>symmetry_se</th>\n",
              "      <th>fractal_dimension_se</th>\n",
              "      <th>radius_worst</th>\n",
              "      <th>texture_worst</th>\n",
              "      <th>perimeter_worst</th>\n",
              "      <th>area_worst</th>\n",
              "      <th>smoothness_worst</th>\n",
              "      <th>compactness_worst</th>\n",
              "      <th>concavity_worst</th>\n",
              "      <th>concave points_worst</th>\n",
              "      <th>symmetry_worst</th>\n",
              "      <th>fractal_dimension_worst</th>\n",
              "    </tr>\n",
              "  </thead>\n",
              "  <tbody>\n",
              "    <tr>\n",
              "      <th>count</th>\n",
              "      <td>569.000000</td>\n",
              "      <td>569.000000</td>\n",
              "      <td>569.000000</td>\n",
              "      <td>569.000000</td>\n",
              "      <td>569.000000</td>\n",
              "      <td>569.000000</td>\n",
              "      <td>569.000000</td>\n",
              "      <td>569.000000</td>\n",
              "      <td>569.000000</td>\n",
              "      <td>569.000000</td>\n",
              "      <td>569.000000</td>\n",
              "      <td>569.000000</td>\n",
              "      <td>569.000000</td>\n",
              "      <td>569.000000</td>\n",
              "      <td>569.000000</td>\n",
              "      <td>569.000000</td>\n",
              "      <td>569.000000</td>\n",
              "      <td>569.000000</td>\n",
              "      <td>569.000000</td>\n",
              "      <td>569.000000</td>\n",
              "      <td>569.000000</td>\n",
              "      <td>569.000000</td>\n",
              "      <td>569.000000</td>\n",
              "      <td>569.000000</td>\n",
              "      <td>569.000000</td>\n",
              "      <td>569.000000</td>\n",
              "      <td>569.000000</td>\n",
              "      <td>569.000000</td>\n",
              "      <td>569.000000</td>\n",
              "      <td>569.000000</td>\n",
              "      <td>569.000000</td>\n",
              "    </tr>\n",
              "    <tr>\n",
              "      <th>mean</th>\n",
              "      <td>0.372583</td>\n",
              "      <td>14.127292</td>\n",
              "      <td>19.289649</td>\n",
              "      <td>91.969033</td>\n",
              "      <td>654.889104</td>\n",
              "      <td>0.096360</td>\n",
              "      <td>0.104341</td>\n",
              "      <td>0.088799</td>\n",
              "      <td>0.048919</td>\n",
              "      <td>0.181162</td>\n",
              "      <td>0.062798</td>\n",
              "      <td>0.405172</td>\n",
              "      <td>1.216853</td>\n",
              "      <td>2.866059</td>\n",
              "      <td>40.337079</td>\n",
              "      <td>0.007041</td>\n",
              "      <td>0.025478</td>\n",
              "      <td>0.031894</td>\n",
              "      <td>0.011796</td>\n",
              "      <td>0.020542</td>\n",
              "      <td>0.003795</td>\n",
              "      <td>16.269190</td>\n",
              "      <td>25.677223</td>\n",
              "      <td>107.261213</td>\n",
              "      <td>880.583128</td>\n",
              "      <td>0.132369</td>\n",
              "      <td>0.254265</td>\n",
              "      <td>0.272188</td>\n",
              "      <td>0.114606</td>\n",
              "      <td>0.290076</td>\n",
              "      <td>0.083946</td>\n",
              "    </tr>\n",
              "    <tr>\n",
              "      <th>std</th>\n",
              "      <td>0.483918</td>\n",
              "      <td>3.524049</td>\n",
              "      <td>4.301036</td>\n",
              "      <td>24.298981</td>\n",
              "      <td>351.914129</td>\n",
              "      <td>0.014064</td>\n",
              "      <td>0.052813</td>\n",
              "      <td>0.079720</td>\n",
              "      <td>0.038803</td>\n",
              "      <td>0.027414</td>\n",
              "      <td>0.007060</td>\n",
              "      <td>0.277313</td>\n",
              "      <td>0.551648</td>\n",
              "      <td>2.021855</td>\n",
              "      <td>45.491006</td>\n",
              "      <td>0.003003</td>\n",
              "      <td>0.017908</td>\n",
              "      <td>0.030186</td>\n",
              "      <td>0.006170</td>\n",
              "      <td>0.008266</td>\n",
              "      <td>0.002646</td>\n",
              "      <td>4.833242</td>\n",
              "      <td>6.146258</td>\n",
              "      <td>33.602542</td>\n",
              "      <td>569.356993</td>\n",
              "      <td>0.022832</td>\n",
              "      <td>0.157336</td>\n",
              "      <td>0.208624</td>\n",
              "      <td>0.065732</td>\n",
              "      <td>0.061867</td>\n",
              "      <td>0.018061</td>\n",
              "    </tr>\n",
              "    <tr>\n",
              "      <th>min</th>\n",
              "      <td>0.000000</td>\n",
              "      <td>6.981000</td>\n",
              "      <td>9.710000</td>\n",
              "      <td>43.790000</td>\n",
              "      <td>143.500000</td>\n",
              "      <td>0.052630</td>\n",
              "      <td>0.019380</td>\n",
              "      <td>0.000000</td>\n",
              "      <td>0.000000</td>\n",
              "      <td>0.106000</td>\n",
              "      <td>0.049960</td>\n",
              "      <td>0.111500</td>\n",
              "      <td>0.360200</td>\n",
              "      <td>0.757000</td>\n",
              "      <td>6.802000</td>\n",
              "      <td>0.001713</td>\n",
              "      <td>0.002252</td>\n",
              "      <td>0.000000</td>\n",
              "      <td>0.000000</td>\n",
              "      <td>0.007882</td>\n",
              "      <td>0.000895</td>\n",
              "      <td>7.930000</td>\n",
              "      <td>12.020000</td>\n",
              "      <td>50.410000</td>\n",
              "      <td>185.200000</td>\n",
              "      <td>0.071170</td>\n",
              "      <td>0.027290</td>\n",
              "      <td>0.000000</td>\n",
              "      <td>0.000000</td>\n",
              "      <td>0.156500</td>\n",
              "      <td>0.055040</td>\n",
              "    </tr>\n",
              "    <tr>\n",
              "      <th>25%</th>\n",
              "      <td>0.000000</td>\n",
              "      <td>11.700000</td>\n",
              "      <td>16.170000</td>\n",
              "      <td>75.170000</td>\n",
              "      <td>420.300000</td>\n",
              "      <td>0.086370</td>\n",
              "      <td>0.064920</td>\n",
              "      <td>0.029560</td>\n",
              "      <td>0.020310</td>\n",
              "      <td>0.161900</td>\n",
              "      <td>0.057700</td>\n",
              "      <td>0.232400</td>\n",
              "      <td>0.833900</td>\n",
              "      <td>1.606000</td>\n",
              "      <td>17.850000</td>\n",
              "      <td>0.005169</td>\n",
              "      <td>0.013080</td>\n",
              "      <td>0.015090</td>\n",
              "      <td>0.007638</td>\n",
              "      <td>0.015160</td>\n",
              "      <td>0.002248</td>\n",
              "      <td>13.010000</td>\n",
              "      <td>21.080000</td>\n",
              "      <td>84.110000</td>\n",
              "      <td>515.300000</td>\n",
              "      <td>0.116600</td>\n",
              "      <td>0.147200</td>\n",
              "      <td>0.114500</td>\n",
              "      <td>0.064930</td>\n",
              "      <td>0.250400</td>\n",
              "      <td>0.071460</td>\n",
              "    </tr>\n",
              "    <tr>\n",
              "      <th>50%</th>\n",
              "      <td>0.000000</td>\n",
              "      <td>13.370000</td>\n",
              "      <td>18.840000</td>\n",
              "      <td>86.240000</td>\n",
              "      <td>551.100000</td>\n",
              "      <td>0.095870</td>\n",
              "      <td>0.092630</td>\n",
              "      <td>0.061540</td>\n",
              "      <td>0.033500</td>\n",
              "      <td>0.179200</td>\n",
              "      <td>0.061540</td>\n",
              "      <td>0.324200</td>\n",
              "      <td>1.108000</td>\n",
              "      <td>2.287000</td>\n",
              "      <td>24.530000</td>\n",
              "      <td>0.006380</td>\n",
              "      <td>0.020450</td>\n",
              "      <td>0.025890</td>\n",
              "      <td>0.010930</td>\n",
              "      <td>0.018730</td>\n",
              "      <td>0.003187</td>\n",
              "      <td>14.970000</td>\n",
              "      <td>25.410000</td>\n",
              "      <td>97.660000</td>\n",
              "      <td>686.500000</td>\n",
              "      <td>0.131300</td>\n",
              "      <td>0.211900</td>\n",
              "      <td>0.226700</td>\n",
              "      <td>0.099930</td>\n",
              "      <td>0.282200</td>\n",
              "      <td>0.080040</td>\n",
              "    </tr>\n",
              "    <tr>\n",
              "      <th>75%</th>\n",
              "      <td>1.000000</td>\n",
              "      <td>15.780000</td>\n",
              "      <td>21.800000</td>\n",
              "      <td>104.100000</td>\n",
              "      <td>782.700000</td>\n",
              "      <td>0.105300</td>\n",
              "      <td>0.130400</td>\n",
              "      <td>0.130700</td>\n",
              "      <td>0.074000</td>\n",
              "      <td>0.195700</td>\n",
              "      <td>0.066120</td>\n",
              "      <td>0.478900</td>\n",
              "      <td>1.474000</td>\n",
              "      <td>3.357000</td>\n",
              "      <td>45.190000</td>\n",
              "      <td>0.008146</td>\n",
              "      <td>0.032450</td>\n",
              "      <td>0.042050</td>\n",
              "      <td>0.014710</td>\n",
              "      <td>0.023480</td>\n",
              "      <td>0.004558</td>\n",
              "      <td>18.790000</td>\n",
              "      <td>29.720000</td>\n",
              "      <td>125.400000</td>\n",
              "      <td>1084.000000</td>\n",
              "      <td>0.146000</td>\n",
              "      <td>0.339100</td>\n",
              "      <td>0.382900</td>\n",
              "      <td>0.161400</td>\n",
              "      <td>0.317900</td>\n",
              "      <td>0.092080</td>\n",
              "    </tr>\n",
              "    <tr>\n",
              "      <th>max</th>\n",
              "      <td>1.000000</td>\n",
              "      <td>28.110000</td>\n",
              "      <td>39.280000</td>\n",
              "      <td>188.500000</td>\n",
              "      <td>2501.000000</td>\n",
              "      <td>0.163400</td>\n",
              "      <td>0.345400</td>\n",
              "      <td>0.426800</td>\n",
              "      <td>0.201200</td>\n",
              "      <td>0.304000</td>\n",
              "      <td>0.097440</td>\n",
              "      <td>2.873000</td>\n",
              "      <td>4.885000</td>\n",
              "      <td>21.980000</td>\n",
              "      <td>542.200000</td>\n",
              "      <td>0.031130</td>\n",
              "      <td>0.135400</td>\n",
              "      <td>0.396000</td>\n",
              "      <td>0.052790</td>\n",
              "      <td>0.078950</td>\n",
              "      <td>0.029840</td>\n",
              "      <td>36.040000</td>\n",
              "      <td>49.540000</td>\n",
              "      <td>251.200000</td>\n",
              "      <td>4254.000000</td>\n",
              "      <td>0.222600</td>\n",
              "      <td>1.058000</td>\n",
              "      <td>1.252000</td>\n",
              "      <td>0.291000</td>\n",
              "      <td>0.663800</td>\n",
              "      <td>0.207500</td>\n",
              "    </tr>\n",
              "  </tbody>\n",
              "</table>\n",
              "</div>"
            ],
            "text/plain": [
              "        diagnosis  radius_mean  ...  symmetry_worst  fractal_dimension_worst\n",
              "count  569.000000   569.000000  ...      569.000000               569.000000\n",
              "mean     0.372583    14.127292  ...        0.290076                 0.083946\n",
              "std      0.483918     3.524049  ...        0.061867                 0.018061\n",
              "min      0.000000     6.981000  ...        0.156500                 0.055040\n",
              "25%      0.000000    11.700000  ...        0.250400                 0.071460\n",
              "50%      0.000000    13.370000  ...        0.282200                 0.080040\n",
              "75%      1.000000    15.780000  ...        0.317900                 0.092080\n",
              "max      1.000000    28.110000  ...        0.663800                 0.207500\n",
              "\n",
              "[8 rows x 31 columns]"
            ]
          },
          "metadata": {},
          "execution_count": 8
        }
      ]
    },
    {
      "cell_type": "code",
      "metadata": {
        "_cell_guid": "aa80be8a-4022-038b-d7b7-0789df4ef973",
        "colab": {
          "base_uri": "https://localhost:8080/",
          "height": 281
        },
        "id": "tGzahiV1OEab",
        "outputId": "3d216201-5085-46f4-f7d8-12705bb9ef2d"
      },
      "source": [
        "df.describe()\n",
        "plt.hist(df['diagnosis'])\n",
        "plt.title('Diagnosis (M=1 , B=0)')\n",
        "plt.show()"
      ],
      "execution_count": null,
      "outputs": [
        {
          "output_type": "display_data",
          "data": {
            "image/png": "[encoded data removed]",
            "text/plain": [
              "<Figure size 432x288 with 1 Axes>"
            ]
          },
          "metadata": {
            "needs_background": "light"
          }
        }
      ]
    },
    {
      "cell_type": "markdown",
      "metadata": {
        "_cell_guid": "56b72979-5155-2a99-1b6e-a55cbf72d2a3",
        "id": "3YL2d9DQOEac"
      },
      "source": [
        "### nucleus features vs diagnosis"
      ]
    },
    {
      "cell_type": "code",
      "metadata": {
        "_cell_guid": "bc36c937-c5d8-8635-480b-777a94571310",
        "id": "YlDLVmQwOEad"
      },
      "source": [
        "features_mean=list(df.columns[1:11])\n",
        "# split dataframe into two based on diagnosis\n",
        "dfM=df[df['diagnosis'] ==1]\n",
        "dfB=df[df['diagnosis'] ==0]"
      ],
      "execution_count": null,
      "outputs": []
    },
    {
      "cell_type": "code",
      "metadata": {
        "_cell_guid": "3f3b5e1b-605d-51b4-28c7-c551b5d13a48",
        "colab": {
          "base_uri": "https://localhost:8080/",
          "height": 789
        },
        "id": "TjktNFuyOEad",
        "outputId": "f9a99713-251a-4fde-fd91-1f5f0df40f30"
      },
      "source": [
        "#Stack the data\n",
        "plt.rcParams.update({'font.size': 8})\n",
        "fig, axes = plt.subplots(nrows=5, ncols=2, figsize=(8,10))\n",
        "axes = axes.ravel()\n",
        "for idx,ax in enumerate(axes):\n",
        "    ax.figure\n",
        "    binwidth= (max(df[features_mean[idx]]) - min(df[features_mean[idx]]))/50\n",
        "    ax.hist([dfM[features_mean[idx]],dfB[features_mean[idx]]], bins=np.arange(min(df[features_mean[idx]]), max(df[features_mean[idx]]) + binwidth, binwidth) , alpha=0.5,stacked=True, normed= True, label=['M','B'],color=['r','g'])\n",
        "    ax.legend(loc='upper right')\n",
        "    ax.set_title(features_mean[idx])\n",
        "plt.tight_layout()\n",
        "plt.show()"
      ],
      "execution_count": null,
      "outputs": [
        {
          "output_type": "stream",
          "name": "stderr",
          "text": [
            "/usr/local/lib/python3.7/dist-packages/numpy/core/_asarray.py:83: VisibleDeprecationWarning: Creating an ndarray from ragged nested sequences (which is a list-or-tuple of lists-or-tuples-or ndarrays with different lengths or shapes) is deprecated. If you meant to do this, you must specify 'dtype=object' when creating the ndarray\n",
            "  return array(a, dtype, copy=False, order=order)\n"
          ]
        },
        {
          "output_type": "display_data",
          "data": {
            "image/png": "[encoded data removed]",
            "text/plain": [
              "<Figure size 576x720 with 10 Axes>"
            ]
          },
          "metadata": {
            "needs_background": "light"
          }
        }
      ]
    },
    {
      "cell_type": "markdown",
      "metadata": {
        "_cell_guid": "4b8d6133-427b-1ecf-0e24-9ec2afea0a0e",
        "id": "2xXA3JFYOEae"
      },
      "source": [
        "# **Observations**\n",
        "\n",
        "1. mean values of cell radius, perimeter, area, compactness, concavity and concave points can be used in classification of the cancer. Larger values of these parameters tends to show a correlation with malignant tumors.\n",
        "2. mean values of texture, smoothness, symmetry or fractual dimension does not show a particular preference of one diagnosis over the other. In any of the histograms there are no noticeable large outliers that warrants further cleanup."
      ]
    },
    {
      "cell_type": "markdown",
      "metadata": {
        "_cell_guid": "ac11039f-0418-3553-9412-ae3d50bef4e4",
        "id": "btJjFsCsOEaf"
      },
      "source": [
        " **Creating a test set and a training set**\n",
        "**Since this data set is not ordered, I am going to do a simple 70:30 split to** **create a training data set and a test data set.**"
      ]
    },
    {
      "cell_type": "code",
      "metadata": {
        "_cell_guid": "1390898b-a338-7395-635f-6e1c216861e6",
        "id": "PdXUzbr_OEaf"
      },
      "source": [
        "traindf, testdf = train_test_split(df, test_size = 0.3)"
      ],
      "execution_count": null,
      "outputs": []
    },
    {
      "cell_type": "markdown",
      "metadata": {
        "_cell_guid": "45dac047-52fb-b847-a521-fa6883ebd5f6",
        "id": "OtLgq2T3OEaf"
      },
      "source": [
        "## **Model Classification**\n",
        "\n",
        "Here we are going to build a classification model and evaluate its performance using the training set.\n",
        "\n",
        "\n",
        "1)  **LOGISTIC REGRESSION MODEL**\n",
        "\n",
        "        ->  Logistic regression is used to describe data and to explain the relationship between one dependent binary variable and one or more nominal, ordinal, interval or ratio-level independent variables.   \n",
        "\n",
        "        ->  Logistic regression is easier to implement, interpret, and very efficient to train. It is very fast at classifying unknown records.\n",
        "\n",
        "        ->  Logistic regression is less inclined to over-fitting but it can overfit in high dimensional datasets.\n",
        "\n",
        "2)  **NAIVE BAYES**\n",
        "\n",
        "      ->  It is a classification technique based on Bayes’ Theorem with an assumption of independence among predictors.\n",
        "\n",
        "      ->  In simple terms, a Naive Bayes classifier assumes that the presence of a particular feature in a class is unrelated to the presence of any other feature.\n",
        "\n",
        "      ->  It is simple and easy to implement. It doesn't require as much training data. It handles both continuous and discrete data.\n",
        "\n",
        "3)  **RANDOM FOREST**\n",
        "\n",
        "      ->  Random forest is a supervised learning algorithm. The \"forest\" it builds, is an ensemble of decision trees, usually trained with the “bagging” method.\n",
        "\n",
        "      ->  It reduces overfitting in decision trees and helps to improve the accuracy and flexible to both classification and regression problems.\n"
      ]
    },
    {
      "cell_type": "code",
      "metadata": {
        "_cell_guid": "780b88d4-523e-b3f8-87dc-17c093663f19",
        "id": "FZGd09juOEag"
      },
      "source": [
        "#Generic function for making a classification model and accessing the performance.\n",
        "# From AnalyticsVidhya tutorial\n",
        "def classification_model(model, data, predictors, outcome):\n",
        "  #Fit the model:\n",
        "  model.fit(data[predictors],data[outcome])\n",
        "\n",
        "  #Make predictions on training set:\n",
        "  predictions = model.predict(data[predictors])\n",
        "\n",
        "  #Print accuracy\n",
        "  accuracy = metrics.accuracy_score(predictions,data[outcome])\n",
        "  print(\"Accuracy : %s\" % \"{0:.3%}\".format(accuracy))\n",
        "\n",
        "  #Perform k-fold cross-validation with 5 folds\n",
        "  kf = KFold(data.shape[0])\n",
        "  error = []\n",
        "  for train, test in kf:\n",
        "    # Filter training data\n",
        "    train_predictors = (data[predictors].iloc[train,:])\n",
        "\n",
        "    # The target we're using to train the algorithm.\n",
        "    train_target = data[outcome].iloc[train]\n",
        "\n",
        "    # Training the algorithm using the predictors and target.\n",
        "    model.fit(train_predictors, train_target)\n",
        "\n",
        "    #Record error from each cross-validation run\n",
        "    error.append(model.score(data[predictors].iloc[test,:], data[outcome].iloc[test]))\n",
        "\n",
        "    print(\"cross_val_score : %s\" % \"{0:.3%}\".format(np.mean(error)))\n",
        "\n",
        "  #Fit the model again so that it can be refered outside the function:\n",
        "  model.fit(data[predictors],data[outcome])"
      ],
      "execution_count": null,
      "outputs": []
    },
    {
      "cell_type": "markdown",
      "metadata": {
        "_cell_guid": "33763a8f-3917-25c9-b581-d03be3078af2",
        "id": "mO3dKVEjOEah"
      },
      "source": [
        "### **Logistic Regression model**\n",
        "\n"
      ]
    },
    {
      "cell_type": "code",
      "metadata": {
        "_cell_guid": "23d25895-a0ca-c355-899d-4a838e0d799d",
        "id": "fm8_VhHROEah"
      },
      "source": [
        "predictor_var = ['radius_mean','perimeter_mean','area_mean','compactness_mean','concave points_mean']\n",
        "outcome_var='diagnosis'\n",
        "model=LogisticRegression()\n",
        "classification_model(model,traindf,predictor_var,outcome_var)"
      ],
      "execution_count": null,
      "outputs": []
    },
    {
      "cell_type": "markdown",
      "metadata": {
        "_cell_guid": "fcdbefb0-e8b7-990d-e016-5d6de31335a7",
        "id": "HbzfLamfOEai"
      },
      "source": [
        "The prediction accuracy is reasonable.\n",
        "What happens if we use just one predictor?\n",
        "Use the mean_radius:"
      ]
    },
    {
      "cell_type": "code",
      "metadata": {
        "_cell_guid": "44cdb278-4b12-5710-f616-db7ccde39775",
        "id": "T2mvb9IpOEai"
      },
      "source": [
        "predictor_var = ['radius_mean']\n",
        "model=LogisticRegression()\n",
        "classification_model(model,traindf,predictor_var,outcome_var)"
      ],
      "execution_count": null,
      "outputs": []
    },
    {
      "cell_type": "markdown",
      "metadata": {
        "_cell_guid": "24484a16-ccec-e32b-ec46-26f4e7572ad5",
        "id": "cCiXAKGdOEaj"
      },
      "source": [
        "This gives a similar prediction accuracy and a cross-validation score.\n"
      ]
    },
    {
      "cell_type": "markdown",
      "metadata": {
        "_cell_guid": "6572777a-8c9c-1678-3651-65bd79577580",
        "id": "ibL2gS6nOEaj"
      },
      "source": [
        "The accuracy of the predictions are good but not great. The cross-validation scores are reasonable.\n"
      ]
    },
    {
      "cell_type": "markdown",
      "metadata": {
        "_cell_guid": "2a7ce79c-2557-d306-977c-c44adde27c6b",
        "id": "D7rBwxSXOEaj"
      },
      "source": [
        "### **Decision Tree Model**"
      ]
    },
    {
      "cell_type": "code",
      "metadata": {
        "_cell_guid": "36acf35e-296e-68fa-ab18-49967554af07",
        "id": "LHCA4onLOEak"
      },
      "source": [
        "predictor_var = ['radius_mean','perimeter_mean','area_mean','compactness_mean','concave points_mean']\n",
        "model = DecisionTreeClassifier()\n",
        "classification_model(model,traindf,predictor_var,outcome_var)"
      ],
      "execution_count": null,
      "outputs": []
    },
    {
      "cell_type": "markdown",
      "metadata": {
        "_cell_guid": "5d88c4cb-d2c7-ca71-5e00-786dd20480b3",
        "id": "k7K-86rTOEak"
      },
      "source": [
        "Here we are over-fitting the model probably due to the large number of predictors.\n",
        "Let use a single predictor, the obvious one is the radius of the cell."
      ]
    },
    {
      "cell_type": "code",
      "metadata": {
        "_cell_guid": "20ef1197-b886-1517-1282-fe6dbeef15a4",
        "id": "hY5ytoJCOEak"
      },
      "source": [
        "predictor_var = ['radius_mean']\n",
        "model = DecisionTreeClassifier()\n",
        "classification_model(model,traindf,predictor_var,outcome_var)"
      ],
      "execution_count": null,
      "outputs": []
    },
    {
      "cell_type": "markdown",
      "metadata": {
        "_cell_guid": "7f22bd99-d2e0-b7b8-c100-88a9a0f0c430",
        "id": "WufvLO3HOEal"
      },
      "source": [
        "Using a single predictor gives a 97% prediction accuracy for this model but the cross-validation score is not that great."
      ]
    },
    {
      "cell_type": "markdown",
      "metadata": {
        "_cell_guid": "40ca5482-3e1c-b8c1-2ac2-041897c9d160",
        "id": "oD6EEEA9OEal"
      },
      "source": [
        "### **Randome Forest**"
      ]
    },
    {
      "cell_type": "code",
      "metadata": {
        "_cell_guid": "e6edf958-508b-f46c-74a5-f1d8f421900f",
        "id": "faqjNphpOEam"
      },
      "source": [
        "# Use all the features of the nucleus\n",
        "predictor_var = features_mean\n",
        "model = RandomForestClassifier(n_estimators=100,min_samples_split=25, max_depth=7, max_features=2)\n",
        "classification_model(model, traindf,predictor_var,outcome_var)"
      ],
      "execution_count": null,
      "outputs": []
    },
    {
      "cell_type": "markdown",
      "metadata": {
        "_cell_guid": "6e6fb3f9-6fea-171f-fd18-b29d475c140c",
        "id": "CGw7avYjOEam"
      },
      "source": [
        "Using all the features improves the prediction accuracy and the cross-validation score is great."
      ]
    },
    {
      "cell_type": "markdown",
      "metadata": {
        "_cell_guid": "9e9bb834-8871-5d30-5832-0655b005f8e4",
        "id": "FiwS_JMjOEam"
      },
      "source": [
        " An advantage with Random Forest is that it returns a feature importance matrix which can be used to select features. So lets select the top 5 features and use them as predictors."
      ]
    },
    {
      "cell_type": "code",
      "metadata": {
        "_cell_guid": "cc9f7243-0ad7-5d47-9791-a0be8757ff1c",
        "id": "TJ9XB3W8OEan"
      },
      "source": [
        "#Create a series with feature importances:\n",
        "featimp = pd.Series(model.feature_importances_, index=predictor_var).sort_values(ascending=False)\n",
        "print(featimp)"
      ],
      "execution_count": null,
      "outputs": []
    },
    {
      "cell_type": "code",
      "metadata": {
        "_cell_guid": "cb067a66-eea5-e2e3-ebc3-b18e832680e1",
        "id": "gpxW3MP6OEan"
      },
      "source": [
        "# Using top 5 features\n",
        "predictor_var = ['concave points_mean','area_mean','radius_mean','perimeter_mean','concavity_mean',]\n",
        "model = RandomForestClassifier(n_estimators=100, min_samples_split=25, max_depth=7, max_features=2)\n",
        "classification_model(model,traindf,predictor_var,outcome_var)"
      ],
      "execution_count": null,
      "outputs": []
    },
    {
      "cell_type": "markdown",
      "metadata": {
        "_cell_guid": "cf8789ef-3898-7c7d-7e46-7526880d71c6",
        "id": "dYJNsIYpOEan"
      },
      "source": [
        "Using the top 5 features only changes the prediction accuracy a bit but I think we get a better result if we use all the predictors.\n",
        "\n",
        "What happens if we use a single predictor as before? Just check."
      ]
    },
    {
      "cell_type": "code",
      "metadata": {
        "_cell_guid": "3a80b53f-3033-0d57-2d49-9089338b41d6",
        "id": "JdvUidJeOEao"
      },
      "source": [
        "predictor_var =  ['radius_mean']\n",
        "model = RandomForestClassifier(n_estimators=100)\n",
        "classification_model(model, traindf,predictor_var,outcome_var)"
      ],
      "execution_count": null,
      "outputs": []
    },
    {
      "cell_type": "markdown",
      "metadata": {
        "_cell_guid": "d28e57c8-4e19-1f69-f7e2-b11a3c392d84",
        "id": "_w6yFJ-8OEao"
      },
      "source": [
        "This gives a better prediction accuracy too but the cross-validation is not great.\n"
      ]
    },
    {
      "cell_type": "markdown",
      "metadata": {
        "_cell_guid": "48ad851d-8bb1-386d-30cb-675acf93d078",
        "id": "RLMK4CtFOEao"
      },
      "source": [
        "## **Using on the test data set**"
      ]
    },
    {
      "cell_type": "markdown",
      "source": [],
      "metadata": {
        "id": "YNOSEG02NNc3"
      }
    },
    {
      "cell_type": "code",
      "metadata": {
        "_cell_guid": "0666b20a-7359-2cf6-2792-08103d78afca",
        "id": "_nG1uO_NOEao"
      },
      "source": [
        "# Use all the features of the nucleus\n",
        "predictor_var = features_mean\n",
        "model = RandomForestClassifier(n_estimators=100,min_samples_split=25, max_depth=7, max_features=2)\n",
        "classification_model(model, testdf,predictor_var,outcome_var)"
      ],
      "execution_count": null,
      "outputs": []
    },
    {
      "cell_type": "markdown",
      "metadata": {
        "_cell_guid": "0310c568-10fc-b19d-b2ee-c87a8f3f3280",
        "id": "gJ-eiLodOEap"
      },
      "source": [
        "## **Conclusion**\n",
        "\n",
        "The best model to be used for diagnosing breast cancer as found in this analysis is the Random Forest model with the top 5 predictors, 'concave points_mean','area_mean','radius_mean','perimeter_mean','concavity_mean'. It gives a prediction accuracy of ~95% and a cross-validation score ~ 93% for the test data set.\n",
        "\n",
        "\n",
        "# **RESULT**\n",
        "\n",
        "\n",
        "![image.png](data:image/png;base64,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)\n",
        "\n"
      ]
    }
  ]
}